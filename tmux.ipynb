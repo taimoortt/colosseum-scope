{
 "cells": [
  {
   "cell_type": "code",
   "execution_count": 1,
   "metadata": {},
   "outputs": [],
   "source": [
    "import subprocess\n",
    "import time\n",
    "import os"
   ]
  },
  {
   "cell_type": "code",
   "execution_count": 2,
   "metadata": {},
   "outputs": [],
   "source": [
    "def run_command(command):\n",
    "    result = subprocess.run(command, shell=True, capture_output=True, text=True)\n",
    "    return result.stdout.strip()\n",
    "\n",
    "def check_and_kill_session(session_name):\n",
    "    sessions = run_command(\"tmux ls\")\n",
    "    if session_name in sessions:\n",
    "        run_command(f\"tmux kill-session -t {session_name}\")\n",
    "\n",
    "def start_new_session(session_name):\n",
    "    run_command(f\"tmux new-session -d -s {session_name}\")\n",
    "\n",
    "def split_into_panes(session_name):\n",
    "    for i in range(5):\n",
    "        run_command(f\"tmux split-window -h -t {session_name}:0\")\n",
    "        run_command(f\"tmux select-layout -t {session_name}:0 tiled\")\n",
    "\n",
    "    for i in range(3):\n",
    "        run_command(f\"tmux split-window -v -t {session_name}:0.{i}\")\n",
    "        run_command(f\"tmux select-layout -t {session_name}:0 tiled\")\n",
    "\n",
    "def connect_to_servers_in_panes(session_name, server_ids):\n",
    "    for i, server_id in enumerate(server_ids):\n",
    "        pane_id = f\"{session_name}:0.{i}\"\n",
    "        password = 'scope'\n",
    "        ssh_command = f\"sshpass -p {password} ssh {server_id}\"\n",
    "\n",
    "        run_command(f\"tmux send-keys -t {pane_id} '{ssh_command}' C-m\")\n",
    "\n",
    "def run_commands_in_panes(session_name, commands):\n",
    "    for pane_id, command in commands.items():\n",
    "        run_command(f\"tmux send-keys -t {session_name}:0.{pane_id} '{command}' C-m\")\n",
    "\n",
    "def run_command_all_panes(session_name, command):\n",
    "    panes = run_command(f\"tmux list-panes -t {session_name} -F '#P'\").split('\\n')\n",
    "    print(panes)\n",
    "    for pane_id in panes:\n",
    "        run_command(f\"tmux send-keys -t {session_name}:0.{pane_id} '{command}' C-m\")\n",
    "\n",
    "\n",
    "def download_files(remote_host, flag, local_base_path, remote_path = '', password='scope'):\n",
    "    remote_user = 'root'\n",
    "    if (remote_path == ''):\n",
    "        remote_path = '/root/node_check'\n",
    "        remote_file = f\"{remote_path}/output.txt\"\n",
    "        os.system(f\"mkdir -p {local_base_path}/{flag}\")\n",
    "        local_file = f\"{local_base_path}/{flag}/{remote_host}.txt\"\n",
    "        scp_command = f\"sshpass -p {password} scp {remote_user}@{remote_host}:{remote_file} {local_file}\"\n",
    "    else:\n",
    "        os.system(f\"mkdir -p {local_base_path}/{flag}\")\n",
    "        local_file = f\"{local_base_path}/{flag}/{remote_host}\"\n",
    "        scp_command = f\"sshpass -p {password} scp -r {remote_user}@{remote_host}:{remote_path} {local_file}\"\n",
    "    \n",
    "    try:\n",
    "        result = subprocess.run(scp_command, shell=True, capture_output=True, text=True)\n",
    "        if result.returncode == 0:\n",
    "            print(result.stdout)\n",
    "        else:\n",
    "            print(f\"Server: {remote_host}, Error: {result.stderr}\")\n",
    "    except Exception as e:\n",
    "        print(f'Server: {remote_host}, Error: {e}')\n",
    "\n",
    "\n",
    "def upload_to_servers(server_ids, local_path, remote_path, password='scope'):\n",
    "    remote_user = 'root'\n",
    "    if not local_path.endswith('/'):\n",
    "        local_path += '/'\n",
    "    \n",
    "    for i in server_ids:\n",
    "        rsync_command = f\"sshpass -p {password} rsync -avz {local_path} {remote_user}@{i}:{remote_path}\"\n",
    "        exit_code = os.system(rsync_command)\n",
    "        if exit_code != 0:\n",
    "            print(f\"An error occurred when communicating with {i}. Exit code: {exit_code}\")\n",
    "        else:\n",
    "            print(f\"Successfully uploaded to {i}\")"
   ]
  },
  {
   "cell_type": "code",
   "execution_count": 3,
   "metadata": {},
   "outputs": [
    {
     "name": "stdout",
     "output_type": "stream",
     "text": [
      "['uiuc5g-035', 'uiuc5g-036', 'uiuc5g-037', 'uiuc5g-038', 'uiuc5g-039', 'uiuc5g-041', 'uiuc5g-042']\n",
      "7\n"
     ]
    }
   ],
   "source": [
    "session_name = \"test\"\n",
    "server_ids = [\n",
    "    # '029',\n",
    "    # '030',\n",
    "    # '031',\n",
    "    # '032',\n",
    "    # '033',\n",
    "    # '034',\n",
    "    '035',\n",
    "    '036',\n",
    "    '037',\n",
    "    '038',\n",
    "    '039',\n",
    "    # '040',\n",
    "    '041',\n",
    "    '042',\n",
    "    # '043',\n",
    "    # '044',\n",
    "    # '046',\n",
    "    # '066',\n",
    "    # '098',\n",
    "    # '099',\n",
    "    # '100',\n",
    "    # '101',\n",
    "    # '102',\n",
    "    # '103',\n",
    "    # '104',\n",
    "    # '105',\n",
    "    # '106',\n",
    "    # '107',\n",
    "    # '108',\n",
    "    # '109',\n",
    "    # '110',\n",
    "    # '113',\n",
    "    # '114',\n",
    "    # '115',\n",
    "    # '118',\n",
    "    # '128'\n",
    "    ]\n",
    "\n",
    "server_ids = ['uiuc5g-' + x for x in server_ids]\n",
    "print(server_ids)\n",
    "print(len(server_ids))"
   ]
  },
  {
   "cell_type": "code",
   "execution_count": 6,
   "metadata": {},
   "outputs": [],
   "source": [
    "def make_connection():\n",
    "    check_and_kill_session(session_name)\n",
    "    start_new_session(session_name)\n",
    "    split_into_panes(session_name)\n",
    "    time.sleep(1)\n",
    "    connect_to_servers_in_panes(session_name, server_ids)"
   ]
  },
  {
   "cell_type": "markdown",
   "metadata": {},
   "source": [
    "Establish All Connections"
   ]
  },
  {
   "cell_type": "code",
   "execution_count": 7,
   "metadata": {},
   "outputs": [],
   "source": [
    "make_connection()"
   ]
  },
  {
   "cell_type": "markdown",
   "metadata": {},
   "source": [
    "Test Running Commands in Selected Nodes (Pane ID: Command)"
   ]
  },
  {
   "cell_type": "code",
   "execution_count": 8,
   "metadata": {},
   "outputs": [],
   "source": [
    "commands = {1:'ls', 2:'pwd'}\n",
    "run_commands_in_panes(session_name, commands)"
   ]
  },
  {
   "cell_type": "code",
   "execution_count": 9,
   "metadata": {},
   "outputs": [
    {
     "name": "stdout",
     "output_type": "stream",
     "text": [
      "['0', '1', '2', '3', '4', '5', '6', '7', '8']\n"
     ]
    }
   ],
   "source": [
    "command = f'clear'\n",
    "run_command_all_panes(session_name, command)"
   ]
  },
  {
   "cell_type": "markdown",
   "metadata": {},
   "source": [
    "Start RF Scenario"
   ]
  },
  {
   "cell_type": "code",
   "execution_count": 10,
   "metadata": {},
   "outputs": [],
   "source": [
    "command = 'colosseumcli rf start 1009 -c'\n",
    "commands = {0:command}\n",
    "run_commands_in_panes(session_name, commands)"
   ]
  },
  {
   "cell_type": "markdown",
   "metadata": {},
   "source": [
    "<h3>Check for Faulty Nodes</h3>"
   ]
  },
  {
   "cell_type": "markdown",
   "metadata": {},
   "source": [
    "Create Directory to Collect Logs"
   ]
  },
  {
   "cell_type": "code",
   "execution_count": 11,
   "metadata": {},
   "outputs": [
    {
     "name": "stdout",
     "output_type": "stream",
     "text": [
      "['0', '1', '2', '3', '4', '5', '6']\n"
     ]
    }
   ],
   "source": [
    "run_command_all_panes(session_name, 'mkdir -p /root/node_check')"
   ]
  },
  {
   "cell_type": "code",
   "execution_count": 23,
   "metadata": {},
   "outputs": [
    {
     "name": "stdout",
     "output_type": "stream",
     "text": [
      "['0', '1', '2', '3', '4', '5', '6']\n"
     ]
    }
   ],
   "source": [
    "run_command_all_panes(session_name, 'clear')"
   ]
  },
  {
   "cell_type": "markdown",
   "metadata": {},
   "source": [
    "Run the Radio Check"
   ]
  },
  {
   "cell_type": "code",
   "execution_count": 19,
   "metadata": {},
   "outputs": [
    {
     "name": "stdout",
     "output_type": "stream",
     "text": [
      "['0', '1', '2', '3', '4', '5', '6']\n",
      "['0', '1', '2', '3', '4', '5', '6']\n"
     ]
    }
   ],
   "source": [
    "radio_check_command = '/usr/local/lib/uhd/examples/rx_ascii_art_dft --freq 1.010e9 --rate 1e6 --gain 20 --ref-lvl 0 --dyn-rng 120 --frame-rate 15 > /root/node_check/output.txt'\n",
    "run_command_all_panes(session_name, radio_check_command)\n",
    "time.sleep(15)\n",
    "kill_command = 'C-c'\n",
    "run_command_all_panes(session_name, kill_command)"
   ]
  },
  {
   "cell_type": "code",
   "execution_count": 20,
   "metadata": {},
   "outputs": [
    {
     "name": "stdout",
     "output_type": "stream",
     "text": [
      "['0', '1', '2', '3', '4', '5', '6']\n",
      "['0', '1', '2', '3', '4', '5', '6']\n"
     ]
    }
   ],
   "source": [
    "time.sleep(2)\n",
    "run_command_all_panes(session_name, '/usr/local/lib/uhd/examples/rx_ascii_art_dft --freq 1.010e9 --rate 1e6 --gain 20 --ref-lvl 0 --dyn-rng 120 --frame-rate 15')\n",
    "time.sleep(15)\n",
    "run_command_all_panes(session_name, 'C-c')"
   ]
  },
  {
   "cell_type": "code",
   "execution_count": 15,
   "metadata": {},
   "outputs": [
    {
     "name": "stdout",
     "output_type": "stream",
     "text": [
      "['0', '1', '2', '3', '4', '5', '6']\n"
     ]
    }
   ],
   "source": [
    "kill_command = 'clear'\n",
    "run_command_all_panes(session_name, kill_command)"
   ]
  },
  {
   "cell_type": "code",
   "execution_count": 16,
   "metadata": {},
   "outputs": [
    {
     "name": "stdout",
     "output_type": "stream",
     "text": [
      "uiuc5g-035\n",
      "\n",
      "uiuc5g-036\n",
      "\n",
      "uiuc5g-037\n",
      "\n",
      "uiuc5g-038\n",
      "\n",
      "uiuc5g-039\n",
      "\n",
      "uiuc5g-041\n",
      "\n",
      "uiuc5g-042\n",
      "\n"
     ]
    }
   ],
   "source": [
    "for i in server_ids:\n",
    "    print(i)\n",
    "    flag = 'radio_check'\n",
    "    download_files(i, flag, '/Users/mttariq2/Desktop/tmux', )\n",
    "    # rename each file to "
   ]
  },
  {
   "cell_type": "markdown",
   "metadata": {},
   "source": [
    "Analyze Files"
   ]
  },
  {
   "cell_type": "code",
   "execution_count": 17,
   "metadata": {},
   "outputs": [
    {
     "name": "stdout",
     "output_type": "stream",
     "text": [
      "Server uiuc5g-035 signal strength: -7\n",
      "Server uiuc5g-036 signal strength: -87\n",
      "Server uiuc5g-037 signal strength: -112\n",
      "Server uiuc5g-038 signal strength: -55\n",
      "Server uiuc5g-039 signal strength: -94\n",
      "Server uiuc5g-041 signal strength: -55\n",
      "Server uiuc5g-042 signal strength: -25\n"
     ]
    }
   ],
   "source": [
    "faulty_servers = []\n",
    "for server in server_ids:\n",
    "    file_path = f\"radio_check/{server}.txt\"\n",
    "    file = open(file_path, 'r')\n",
    "    signal_strength = 0\n",
    "    for line in file.readlines():\n",
    "        if '-100' in line:\n",
    "            # access next line\n",
    "            line_len = len(line)\n",
    "            # get each carachter in line and ensure that more than 80% of the characters are '|'\n",
    "            if line_len == 0:\n",
    "                print(f\"Server {server} is faulty. Not enough signal > -100db!\", end = '  ')\n",
    "                break\n",
    "            else:\n",
    "                # count the number of '|' characters in line\n",
    "                full_bar_count = line.count('|')\n",
    "                # calculate the percentage of '|' characters in line\n",
    "                full_bar_percentage = full_bar_count / line_len\n",
    "                # if the percentage is greater than 80%, then the signal is strong\n",
    "                if full_bar_percentage > 0.5:\n",
    "                    signal_strength += 1\n",
    "                # if the percentage is less than 80%, then the signal is weak\n",
    "                else:\n",
    "                    signal_strength -= 1\n",
    "    print(f\"Server {server} signal strength: {signal_strength}\")\n",
    "    if signal_strength <= 0:\n",
    "        faulty_servers.append(server)"
   ]
  },
  {
   "cell_type": "code",
   "execution_count": 18,
   "metadata": {},
   "outputs": [
    {
     "name": "stdout",
     "output_type": "stream",
     "text": [
      "['uiuc5g-035', 'uiuc5g-036', 'uiuc5g-037', 'uiuc5g-038', 'uiuc5g-039', 'uiuc5g-041', 'uiuc5g-042']\n",
      "[1, 2, 3, 4, 5, 6, 7]\n",
      "['uiuc5g-035', 'uiuc5g-036', 'uiuc5g-037', 'uiuc5g-038', 'uiuc5g-039', 'uiuc5g-041', 'uiuc5g-042']\n"
     ]
    }
   ],
   "source": [
    "print(faulty_servers)\n",
    "faulty_nodes_index = []\n",
    "for server in faulty_servers:\n",
    "    # get the index of the server in the server_ids list\n",
    "    server_index = server_ids.index(server)\n",
    "    faulty_nodes_index.append(server_index + 1)\n",
    "\n",
    "print(faulty_nodes_index)\n",
    "# remove faulty servers from the server_ids list\n",
    "\n",
    "\n",
    "print(server_ids)"
   ]
  },
  {
   "cell_type": "markdown",
   "metadata": {},
   "source": [
    "<h3>Remove Faulty Servers</h3>"
   ]
  },
  {
   "cell_type": "code",
   "execution_count": null,
   "metadata": {},
   "outputs": [],
   "source": [
    "for server in faulty_servers:\n",
    "    server_ids.remove(server)"
   ]
  },
  {
   "cell_type": "markdown",
   "metadata": {},
   "source": [
    "<h3>Update Radio Interactive Config file with the updated list of Faullty Nodes </h3>"
   ]
  },
  {
   "cell_type": "code",
   "execution_count": 66,
   "metadata": {},
   "outputs": [
    {
     "name": "stdout",
     "output_type": "stream",
     "text": [
      "File updated successfully.\n"
     ]
    }
   ],
   "source": [
    "# File path\n",
    "file_path = \"/Users/mttariq2/Desktop/tmux/code/scope/radio_api/radio_interactive.conf\"\n",
    "\n",
    "# Read the file and store the content\n",
    "with open(file_path, 'r') as file:\n",
    "    lines = file.readlines()\n",
    "\n",
    "# Replace the line containing \"faulty-nodes\"\n",
    "for i, line in enumerate(lines):\n",
    "    if '\"faulty-nodes\": ' in line:\n",
    "        lines[i] = f'  \"faulty-nodes\": \"{faulty_nodes_index}\"\\n'\n",
    "        break\n",
    "\n",
    "# Write the updated content back to the file\n",
    "with open(file_path, 'w') as file:\n",
    "    file.writelines(lines)\n",
    "\n",
    "print(\"File updated successfully.\")"
   ]
  },
  {
   "cell_type": "code",
   "execution_count": 24,
   "metadata": {},
   "outputs": [
    {
     "name": "stdout",
     "output_type": "stream",
     "text": [
      "['0', '1', '2', '3', '4', '5', '6']\n",
      "['0', '1', '2', '3', '4', '5', '6']\n"
     ]
    }
   ],
   "source": [
    "run_command_all_panes(session_name, 'cd /root/radio_api && clear')\n",
    "run_command_all_panes(session_name, 'python3 scope_start.py --config-file radio_interactive.conf > /root/node_check/output.txt')"
   ]
  },
  {
   "cell_type": "code",
   "execution_count": 60,
   "metadata": {},
   "outputs": [
    {
     "name": "stdout",
     "output_type": "stream",
     "text": [
      "['0', '1', '2', '3', '4', '5', '6', '7']\n"
     ]
    }
   ],
   "source": [
    "\n",
    "run_command_all_panes(session_name, 'C-d')"
   ]
  },
  {
   "cell_type": "markdown",
   "metadata": {},
   "source": [
    "<h1> Code Upload </h1>"
   ]
  },
  {
   "cell_type": "markdown",
   "metadata": {},
   "source": [
    "Push code from the Local Repo through SCP"
   ]
  },
  {
   "cell_type": "code",
   "execution_count": 78,
   "metadata": {},
   "outputs": [
    {
     "name": "stdout",
     "output_type": "stream",
     "text": [
      "['0', '1', '2', '3', '4', '5']\n",
      "['0', '1', '2', '3', '4', '5']\n",
      "['0', '1', '2', '3', '4', '5']\n",
      "['0', '1', '2', '3', '4', '5']\n"
     ]
    },
    {
     "name": "stderr",
     "output_type": "stream",
     "text": [
      "Warning: Permanently added 'uiuc5g-035' (ED25519) to the list of known hosts.\n"
     ]
    },
    {
     "name": "stdout",
     "output_type": "stream",
     "text": [
      "building file list ... done\n",
      "./\n",
      ".gitignore\n",
      "constants.py\n",
      "heuristic.conf\n",
      "heuristic.py\n",
      "radio.conf\n",
      "radio_generic.conf\n",
      "radio_interactive.conf\n",
      "scope_api.py\n",
      "scope_start.py\n",
      "slice_heuristic.conf\n",
      "slice_heuristic.py\n",
      "start.sh\n",
      "statistics.sh\n",
      "status.sh\n",
      "stop.sh\n",
      "support_functions.py\n",
      "\n",
      "sent 26643 bytes  received 378 bytes  10808.40 bytes/sec\n",
      "total size is 91836  speedup is 3.40\n",
      "Successfully uploaded to uiuc5g-035\n"
     ]
    },
    {
     "name": "stderr",
     "output_type": "stream",
     "text": [
      "Warning: Permanently added 'uiuc5g-036' (ED25519) to the list of known hosts.\n"
     ]
    },
    {
     "name": "stdout",
     "output_type": "stream",
     "text": [
      "building file list ... done\n",
      "./\n",
      ".gitignore\n",
      "constants.py\n",
      "heuristic.conf\n",
      "heuristic.py\n",
      "radio.conf\n",
      "radio_generic.conf\n",
      "radio_interactive.conf\n",
      "scope_api.py\n",
      "scope_start.py\n",
      "slice_heuristic.conf\n",
      "slice_heuristic.py\n",
      "start.sh\n",
      "statistics.sh\n",
      "status.sh\n",
      "stop.sh\n",
      "support_functions.py\n",
      "\n",
      "sent 26643 bytes  received 378 bytes  10808.40 bytes/sec\n",
      "total size is 91836  speedup is 3.40\n",
      "Successfully uploaded to uiuc5g-036\n"
     ]
    },
    {
     "name": "stderr",
     "output_type": "stream",
     "text": [
      "Warning: Permanently added 'uiuc5g-037' (ED25519) to the list of known hosts.\n"
     ]
    },
    {
     "name": "stdout",
     "output_type": "stream",
     "text": [
      "building file list ... done\n",
      "./\n",
      ".gitignore\n",
      "constants.py\n",
      "heuristic.conf\n",
      "heuristic.py\n",
      "radio.conf\n",
      "radio_generic.conf\n",
      "radio_interactive.conf\n",
      "scope_api.py\n",
      "scope_start.py\n",
      "slice_heuristic.conf\n",
      "slice_heuristic.py\n",
      "start.sh\n",
      "statistics.sh\n",
      "status.sh\n",
      "stop.sh\n",
      "support_functions.py\n",
      "\n",
      "sent 26643 bytes  received 378 bytes  10808.40 bytes/sec\n",
      "total size is 91836  speedup is 3.40\n",
      "Successfully uploaded to uiuc5g-037\n"
     ]
    },
    {
     "name": "stderr",
     "output_type": "stream",
     "text": [
      "Warning: Permanently added 'uiuc5g-038' (ED25519) to the list of known hosts.\n"
     ]
    },
    {
     "name": "stdout",
     "output_type": "stream",
     "text": [
      "building file list ... done\n",
      "./\n",
      ".gitignore\n",
      "constants.py\n",
      "heuristic.conf\n",
      "heuristic.py\n",
      "radio.conf\n",
      "radio_generic.conf\n",
      "radio_interactive.conf\n",
      "scope_api.py\n",
      "scope_start.py\n",
      "slice_heuristic.conf\n",
      "slice_heuristic.py\n",
      "start.sh\n",
      "statistics.sh\n",
      "status.sh\n",
      "stop.sh\n",
      "support_functions.py\n",
      "\n",
      "sent 26643 bytes  received 378 bytes  18014.00 bytes/sec\n",
      "total size is 91836  speedup is 3.40\n",
      "Successfully uploaded to uiuc5g-038\n"
     ]
    },
    {
     "name": "stderr",
     "output_type": "stream",
     "text": [
      "Warning: Permanently added 'uiuc5g-039' (ED25519) to the list of known hosts.\n"
     ]
    },
    {
     "name": "stdout",
     "output_type": "stream",
     "text": [
      "building file list ... done\n",
      "./\n",
      ".gitignore\n",
      "constants.py\n",
      "heuristic.conf\n",
      "heuristic.py\n",
      "radio.conf\n",
      "radio_generic.conf\n",
      "radio_interactive.conf\n",
      "scope_api.py\n",
      "scope_start.py\n",
      "slice_heuristic.conf\n",
      "slice_heuristic.py\n",
      "start.sh\n",
      "statistics.sh\n",
      "status.sh\n",
      "stop.sh\n",
      "support_functions.py\n",
      "\n",
      "sent 26643 bytes  received 378 bytes  10808.40 bytes/sec\n",
      "total size is 91836  speedup is 3.40\n",
      "Successfully uploaded to uiuc5g-039\n"
     ]
    },
    {
     "name": "stderr",
     "output_type": "stream",
     "text": [
      "Warning: Permanently added 'uiuc5g-041' (ED25519) to the list of known hosts.\n"
     ]
    },
    {
     "name": "stdout",
     "output_type": "stream",
     "text": [
      "building file list ... done\n",
      "./\n",
      ".gitignore\n",
      "constants.py\n",
      "heuristic.conf\n",
      "heuristic.py\n",
      "radio.conf\n",
      "radio_generic.conf\n",
      "radio_interactive.conf\n",
      "scope_api.py\n",
      "scope_start.py\n",
      "slice_heuristic.conf\n",
      "slice_heuristic.py\n",
      "start.sh\n",
      "statistics.sh\n",
      "status.sh\n",
      "stop.sh\n",
      "support_functions.py\n",
      "\n",
      "sent 26643 bytes  received 378 bytes  10808.40 bytes/sec\n",
      "total size is 91836  speedup is 3.40\n",
      "Successfully uploaded to uiuc5g-041\n",
      "['0', '1', '2', '3', '4', '5']\n",
      "['0', '1', '2', '3', '4', '5']\n"
     ]
    },
    {
     "name": "stderr",
     "output_type": "stream",
     "text": [
      "Warning: Permanently added 'uiuc5g-035' (ED25519) to the list of known hosts.\n"
     ]
    },
    {
     "name": "stdout",
     "output_type": "stream",
     "text": [
      "building file list ... done\n",
      "./\n",
      "drb.conf\n",
      "enb.conf\n",
      "epc.conf\n",
      "mbms.conf\n",
      "rr.conf\n",
      "sib.conf\n",
      "ue.conf\n",
      "user_db.csv\n",
      "\n",
      "sent 20873 bytes  received 202 bytes  8430.00 bytes/sec\n",
      "total size is 56191  speedup is 2.67\n",
      "Successfully uploaded to uiuc5g-035\n"
     ]
    },
    {
     "name": "stderr",
     "output_type": "stream",
     "text": [
      "Warning: Permanently added 'uiuc5g-036' (ED25519) to the list of known hosts.\n"
     ]
    },
    {
     "name": "stdout",
     "output_type": "stream",
     "text": [
      "building file list ... done\n",
      "./\n",
      "drb.conf\n",
      "enb.conf\n",
      "epc.conf\n",
      "mbms.conf\n",
      "rr.conf\n",
      "sib.conf\n",
      "ue.conf\n",
      "user_db.csv\n",
      "\n",
      "sent 20873 bytes  received 202 bytes  8430.00 bytes/sec\n",
      "total size is 56191  speedup is 2.67\n",
      "Successfully uploaded to uiuc5g-036\n"
     ]
    },
    {
     "name": "stderr",
     "output_type": "stream",
     "text": [
      "Warning: Permanently added 'uiuc5g-037' (ED25519) to the list of known hosts.\n"
     ]
    },
    {
     "name": "stdout",
     "output_type": "stream",
     "text": [
      "building file list ... done\n",
      "./\n",
      "drb.conf\n",
      "enb.conf\n",
      "epc.conf\n",
      "mbms.conf\n",
      "rr.conf\n",
      "sib.conf\n",
      "ue.conf\n",
      "user_db.csv\n",
      "\n",
      "sent 20873 bytes  received 202 bytes  8430.00 bytes/sec\n",
      "total size is 56191  speedup is 2.67\n",
      "Successfully uploaded to uiuc5g-037\n"
     ]
    },
    {
     "name": "stderr",
     "output_type": "stream",
     "text": [
      "Warning: Permanently added 'uiuc5g-038' (ED25519) to the list of known hosts.\n"
     ]
    },
    {
     "name": "stdout",
     "output_type": "stream",
     "text": [
      "building file list ... done\n",
      "./\n",
      "drb.conf\n",
      "enb.conf\n",
      "epc.conf\n",
      "mbms.conf\n",
      "rr.conf\n",
      "sib.conf\n",
      "ue.conf\n",
      "user_db.csv\n",
      "\n",
      "sent 20873 bytes  received 202 bytes  14050.00 bytes/sec\n",
      "total size is 56191  speedup is 2.67\n",
      "Successfully uploaded to uiuc5g-038\n"
     ]
    },
    {
     "name": "stderr",
     "output_type": "stream",
     "text": [
      "Warning: Permanently added 'uiuc5g-039' (ED25519) to the list of known hosts.\n"
     ]
    },
    {
     "name": "stdout",
     "output_type": "stream",
     "text": [
      "building file list ... done\n",
      "./\n",
      "drb.conf\n",
      "enb.conf\n",
      "epc.conf\n",
      "mbms.conf\n",
      "rr.conf\n",
      "sib.conf\n",
      "ue.conf\n",
      "user_db.csv\n",
      "\n",
      "sent 20873 bytes  received 202 bytes  8430.00 bytes/sec\n",
      "total size is 56191  speedup is 2.67\n",
      "Successfully uploaded to uiuc5g-039\n"
     ]
    },
    {
     "name": "stderr",
     "output_type": "stream",
     "text": [
      "Warning: Permanently added 'uiuc5g-041' (ED25519) to the list of known hosts.\n"
     ]
    },
    {
     "name": "stdout",
     "output_type": "stream",
     "text": [
      "building file list ... done\n",
      "./\n",
      "drb.conf\n",
      "enb.conf\n",
      "epc.conf\n",
      "mbms.conf\n",
      "rr.conf\n",
      "sib.conf\n",
      "ue.conf\n",
      "user_db.csv\n",
      "\n",
      "sent 20873 bytes  received 202 bytes  8430.00 bytes/sec\n",
      "total size is 56191  speedup is 2.67\n",
      "Successfully uploaded to uiuc5g-041\n",
      "['0', '1', '2', '3', '4', '5']\n",
      "['0', '1', '2', '3', '4', '5']\n"
     ]
    }
   ],
   "source": [
    "# pass command to create a directory called 'scope_updated'\n",
    "run_command_all_panes(session_name, 'mkdir -p /root/scope_updated')\n",
    "# pass command to cd into the directory\n",
    "run_command_all_panes(session_name, 'cd /root/scope_updated')\n",
    "\n",
    "local_path = 'code/scope/radio_api/'  # Ensure this path is correct\n",
    "remote_path = '/root/radio_api/'\n",
    "run_command_all_panes(session_name, f'rm -r {remote_path}')\n",
    "run_command_all_panes(session_name, f'mkdir -p {remote_path}')\n",
    "upload_to_servers(server_ids, local_path, remote_path)\n",
    "\n",
    "local_path = 'code/scope/radio_code/srslte_config/'  # Ensure this path is correct\n",
    "remote_path = '/root/radio_code/srslte_config/'\n",
    "run_command_all_panes(session_name, f'rm -r {remote_path}')\n",
    "run_command_all_panes(session_name, f'mkdir -p {remote_path}')\n",
    "upload_to_servers(server_ids, local_path, remote_path)\n",
    "\n",
    "\n",
    "run_command_all_panes(session_name, 'cd /root/radio_api && clear')\n",
    "run_command_all_panes(session_name, 'python3 scope_start.py --config-file radio_interactive.conf > /root/node_check/output.txt')\n",
    "run_commands_in_panes(session_name, {0:'python3 scope_start.py --config-file radio_interactive.conf > /root/node_check/output.txt', 4:'python3 scope_start.py --config-file radio_interactive.conf > /root/node_check/output.txt'})\n"
   ]
  },
  {
   "cell_type": "code",
   "execution_count": null,
   "metadata": {},
   "outputs": [
    {
     "name": "stdout",
     "output_type": "stream",
     "text": [
      "uiuc5g-035\n",
      "\n",
      "uiuc5g-036\n",
      "\n",
      "uiuc5g-037\n",
      "\n",
      "uiuc5g-038\n",
      "\n",
      "uiuc5g-039\n",
      "\n",
      "uiuc5g-041\n",
      "\n"
     ]
    }
   ],
   "source": [
    "for i in server_ids:\n",
    "    if i not in faulty_servers:\n",
    "        print(i)\n",
    "        flag = 'test'\n",
    "        download_files(i, flag,'/Users/mttariq2/Desktop/tmux')"
   ]
  },
  {
   "cell_type": "code",
   "execution_count": 76,
   "metadata": {},
   "outputs": [
    {
     "name": "stdout",
     "output_type": "stream",
     "text": [
      "uiuc5g-035\n",
      "\n",
      "uiuc5g-036\n",
      "\n",
      "uiuc5g-037\n",
      "\n",
      "uiuc5g-038\n",
      "\n",
      "uiuc5g-039\n",
      "\n",
      "uiuc5g-041\n",
      "\n"
     ]
    }
   ],
   "source": [
    "for i in server_ids:\n",
    "    print(i)\n",
    "    flag = 'logs'\n",
    "    download_files(i, flag, '/Users/mttariq2/Desktop/tmux', '/logs')"
   ]
  },
  {
   "cell_type": "code",
   "execution_count": 140,
   "metadata": {},
   "outputs": [],
   "source": [
    "bs_ids = [1]\n",
    "ue_ids = {2:1, 3:1, 4:1, 5:8}\n",
    "faulty_servers = [1]"
   ]
  },
  {
   "cell_type": "code",
   "execution_count": 141,
   "metadata": {},
   "outputs": [
    {
     "name": "stdout",
     "output_type": "stream",
     "text": [
      "UE ID 2 is associated with a faulty node: 1 - Exiting\n",
      "UE ID 3 is associated with a faulty node: 1 - Exiting\n",
      "UE ID 4 is associated with a faulty node: 1 - Exiting\n"
     ]
    }
   ],
   "source": [
    "# remove faulty nodes from the BS and UE lists.\n",
    "bs_ids = [x for x in bs_ids if x not in faulty_servers]\n",
    "keys_to_delete = []\n",
    "for ue, bs in ue_ids.items():\n",
    "    if bs in faulty_servers:\n",
    "        print('UE ID ' + str(ue) + ' is associated with a faulty node: ' + str(bs) + ' - Exiting')\n",
    "        keys_to_delete.append(ue)\n",
    "    elif ue in faulty_servers:\n",
    "        print('UE ID ' + str(ue) + ' is faulty. Exiting')\n",
    "        keys_to_delete.append(ue)\n",
    "\n",
    "for key in keys_to_delete:\n",
    "    del ue_ids[key]"
   ]
  },
  {
   "cell_type": "code",
   "execution_count": 142,
   "metadata": {},
   "outputs": [
    {
     "name": "stdout",
     "output_type": "stream",
     "text": [
      "[]\n",
      "{5: 8}\n",
      "[1]\n"
     ]
    }
   ],
   "source": [
    "print(bs_ids)\n",
    "print(ue_ids)\n",
    "print(faulty_servers)"
   ]
  },
  {
   "cell_type": "code",
   "execution_count": null,
   "metadata": {},
   "outputs": [],
   "source": []
  },
  {
   "cell_type": "code",
   "execution_count": null,
   "metadata": {},
   "outputs": [],
   "source": []
  }
 ],
 "metadata": {
  "kernelspec": {
   "display_name": "Python 3",
   "language": "python",
   "name": "python3"
  },
  "language_info": {
   "codemirror_mode": {
    "name": "ipython",
    "version": 3
   },
   "file_extension": ".py",
   "mimetype": "text/x-python",
   "name": "python",
   "nbconvert_exporter": "python",
   "pygments_lexer": "ipython3",
   "version": "3.9.6"
  }
 },
 "nbformat": 4,
 "nbformat_minor": 2
}
